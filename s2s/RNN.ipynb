{
 "cells": [
  {
   "cell_type": "code",
   "execution_count": 4,
   "metadata": {},
   "outputs": [],
   "source": [
    "import numpy as np\n",
    "import cupy as cp\n",
    "# import cupy as np\n",
    "import pandas as pd\n",
    "from collections import OrderedDict\n",
    "import re\n",
    "import json\n",
    "from tqdm import tqdm\n",
    "import pickle\n",
    "import sys\n",
    "np.set_printoptions(threshold=sys.maxsize)"
   ]
  },
  {
   "cell_type": "code",
   "execution_count": 5,
   "metadata": {},
   "outputs": [],
   "source": [
    "def exit_op():\n",
    "    with open('./RNN_model.pkl','wb') as f:\n",
    "        pickle.dump(model, f)"
   ]
  },
  {
   "cell_type": "code",
   "execution_count": 6,
   "metadata": {},
   "outputs": [],
   "source": [
    "class Skip_Gram:\n",
    "    def __init__(self,word_count,window = 4,hidden_units = 300):\n",
    "        self.window = window\n",
    "        self.learningrate = 1e-12\n",
    "        len_word = len(word_count)\n",
    "        self.word_count = word_count\n",
    "        self.hidden_units = hidden_units\n",
    "        self.len_word = len_word\n",
    "        self.reseter()\n",
    "        self.Weight = {}\n",
    "        self.Weight[\"W\"+str(1)] = np.random.normal(-1., 1.,(len_word,hidden_units)) \n",
    "        self.Weight[\"W\"+str(2)] = np.random.normal(-1., 1.,(hidden_units,len_word))\n",
    "        # self.Weight[\"W\"+str(1)] = np.random.randn(len_word,hidden_units)/2.5+1\n",
    "        # self.Weight[\"W\"+str(2)] = np.random.randn(len_word,hidden_units)\n",
    "        # self.Weight[\"W\"+str(2)] = np.random.randn(hidden_units,len_word)/2.5+1\n",
    "    def reseter(self):\n",
    "        self.onehoty = cp.zeros((self.len_word,1))\n",
    "        self.onehotx = cp.zeros((self.len_word,1))\n",
    "    def softmax(self, x):\n",
    "        max_val = np.max(x)\n",
    "        x = x - max_val\n",
    "        # if np.isnan(x).any():\n",
    "        #     print(\"NAN\")\n",
    "        #     print(\"\\n\",max_val,\"\\n\")\n",
    "        #     exit_op()\n",
    "        #     exit()\n",
    "        x = np.exp(x)\n",
    "        self.soft = x/np.sum(x)\n",
    "        return self.soft\n",
    "    def linear_ohot(self,x,x1):\n",
    "        self.iidx = self.word_count[re.sub(r'[^A-Za-z0-9\\\\]+','', x ).lower()][1]\n",
    "        self.onehotx[self.iidx] +=1\n",
    "        y = np.dot(self.onehotx.T,x1)\n",
    "        return y\n",
    "    def linear(self,x,x1):\n",
    "        self.x_out = x\n",
    "        y = np.dot(x,x1)\n",
    "        return y\n",
    "    def loss(self,y):    \n",
    "        hadamard = np.multiply(np.log(y+1e-25),self.onehoty.T).T\n",
    "        doter = np.dot(self.onehoty.T,hadamard)\n",
    "        loss = -np.sum(doter)\n",
    "        return loss\n",
    "    def forward(self,x,y):\n",
    "        x = self.linear_ohot(x,self.Weight['W1'])\n",
    "        for idx,target in enumerate(y):\n",
    "            self.onehoty[self.word_count[re.sub(r'[^A-Za-z0-9\\\\]+','', target ).lower()][1]] += 1 \n",
    "        x = self.softmax(self.linear(x,self.Weight['W2']))\n",
    "        y = self.loss(x)\n",
    "        return y\n",
    "    def backward(self,x):\n",
    "        x =  self.soft - self.onehoty.T\n",
    "        b = np.multiply(self.onehoty.T,x)\n",
    "        dwo = np.dot(self.x_out.T,b)\n",
    "        self.Weight['W2'] -= self.learningrate*dwo\n",
    "        y = np.dot(self.Weight['W2'],x.T)\n",
    "        dwi = np.multiply(self.onehotx.reshape(self.onehotx.shape[0],1),y.T)\n",
    "        # if np.isnan(dwi).any():\n",
    "        #     print(self.onehotx)\n",
    "        self.Weight['W1'] -= self.learningrate*dwi\n",
    "        self.reseter()\n",
    "    def predict(self,x):\n",
    "        x = self.linear_ohot(x,self.Weight['W1'])\n",
    "        x = self.softmax(self.linear(x,self.Weight['W'+str(2)]))\n",
    "        self.reseter()\n",
    "        return x\n",
    "    def ss(self,x):\n",
    "        text = x\n",
    "        x = self.linear_ohot(x,self.Weight['W1'])\n",
    "        x_values = x.reshape(300)\n",
    "        x = self.linear(x,self.Weight['W'+str(2)])\n",
    "        y_values = x\n",
    "        self.reseter()\n",
    "        word_wieght.append(x_values.get())\n",
    "    def wv(self,x):\n",
    "        self.reseter()\n",
    "        x = self.linear_ohot(x,self.Weight['W1'])\n",
    "        return x.reshape(1,self.hidden_units)\n",
    "dataset = pd.read_csv(\"train1.csv\")\n",
    "with open(\"word_count.json\",'r') as f:\n",
    "    word_count = OrderedDict(json.load(f))\n",
    "with open(\"w2v_model.pkl\",\"rb\") as f:\n",
    "    model1 = pickle.load(f)"
   ]
  },
  {
   "cell_type": "code",
   "execution_count": 7,
   "metadata": {},
   "outputs": [],
   "source": [
    "class relu:\n",
    "    def __init__(self):\n",
    "        self.mask = None\n",
    "        self.x_shape = None\n",
    "    def forward(self,x):\n",
    "        self.x_shape = x.shape\n",
    "        self.mask = x<=0\n",
    "        x[self.mask] = 0\n",
    "        y = x.reshape(self.x_shape)\n",
    "        return y\n",
    "    def backward(self,x):\n",
    "        x[self.mask] = 0\n",
    "        return x"
   ]
  },
  {
   "cell_type": "code",
   "execution_count": 8,
   "metadata": {},
   "outputs": [],
   "source": [
    "class tanh:\n",
    "    def __init__(self):\n",
    "        self.tanh_value = None\n",
    "        self.x = None\n",
    "    def forward(self,x):\n",
    "        self.x = x\n",
    "        self.tanh_value = np.tanh(x)\n",
    "        return self.tanh_value\n",
    "    def backward(self):\n",
    "        return 1 - self.tanh_value*self.tanh_value\n",
    "    def tan_value(self):\n",
    "        return self.tanh_value\n",
    "    def x_value(self):\n",
    "        return self.x "
   ]
  },
  {
   "cell_type": "code",
   "execution_count": 9,
   "metadata": {},
   "outputs": [],
   "source": [
    "class linear:\n",
    "    def __init__(self):\n",
    "        self.Wi = None\n",
    "        self.Wh = None\n",
    "        self.x = None\n",
    "        self.htl = None\n",
    "    def forward(self,x,wi,htl,wh,b):\n",
    "        self.Wi = wi\n",
    "        self.Wh = wh\n",
    "        self.x = x\n",
    "        self.htl = htl\n",
    "        x1 = np.dot(wi,x.T)\n",
    "        x2 = np.dot(wh,htl)\n",
    "        y = np.add(x1,x2)\n",
    "        y = np.add(y,b)\n",
    "        return y\n",
    "    def value_wi(self):\n",
    "        return self.Wi\n",
    "    def value_wh(self):\n",
    "        return self.Wh\n",
    "    def value_x(self):\n",
    "        return self.x\n",
    "    def value_htl(self):\n",
    "        return self.htl"
   ]
  },
  {
   "cell_type": "code",
   "execution_count": 10,
   "metadata": {},
   "outputs": [],
   "source": [
    "class out_layer:\n",
    "    def __init__(self):\n",
    "        self.soft = None\n",
    "        self.t = None\n",
    "        self.y = None\n",
    "    def loss(self,y,t):    \n",
    "        self.t = t\n",
    "        self.y = y\n",
    "        doter = np.dot(t.T,np.log(y+1e-8))\n",
    "        loss = -np.sum(doter)\n",
    "        return loss    \n",
    "    def softmax(self,x):\n",
    "        max_val = np.max(x)\n",
    "        x = x - max_val\n",
    "        x = np.exp(x)\n",
    "        self.soft = x/np.sum(x)\n",
    "        return self.soft\n",
    "    def predict(self,x):\n",
    "        x = self.softmax(x)\n",
    "        x = x.argmax()\n",
    "        return x\n",
    "    def forward(self,x,t):\n",
    "        x = self.softmax(x)\n",
    "        y = self.loss(x,t)\n",
    "        return y\n",
    "    def backward(self):\n",
    "        y = self.y - self.t\n",
    "        return y"
   ]
  },
  {
   "cell_type": "code",
   "execution_count": 11,
   "metadata": {},
   "outputs": [],
   "source": [
    "class RNN:\n",
    "    def __init__(self,word_count,hidden_size=300):\n",
    "        self.word_count = word_count\n",
    "        self.word_len = len(word_count)\n",
    "        self.voc = list(word_count.keys())\n",
    "        self.hidden_size = hidden_size\n",
    "        self.lr = 1e-1\n",
    "        self.Weight = {}\n",
    "        self.Weight[\"Wh\"] = np.random.normal(0, np.sqrt(2.0/(hidden_size)),(hidden_size,hidden_size))\n",
    "        self.Weight[\"Wo\"] = np.random.normal(0, np.sqrt(2.0/(hidden_size)),(self.word_len,hidden_size))\n",
    "        self.Weight[\"Wi\"] = np.random.normal(0, np.sqrt(2.0/(hidden_size)),(hidden_size,hidden_size))\n",
    "        self.Weight[\"bh\"] = np.zeros((hidden_size,1))\n",
    "        self.Weight[\"bo\"] = np.zeros((self.word_len,1))\n",
    "        self.h0 = np.zeros((self.hidden_size,1))\n",
    "    def reseter(self):\n",
    "        self.onehoty = np.zeros((self.word_len,1))\n",
    "        self.onehotx = np.zeros((self.word_len,1))\n",
    "    def linear(self,x,w,b):\n",
    "        y = np.dot(w,x)\n",
    "        y += b\n",
    "        return y \n",
    "    def lookup(self,x):\n",
    "        return self.word_count[re.sub(r'[^A-Za-z0-9\\\\]+','', x ).lower()][1]\n",
    "    def forward(self,words):\n",
    "        self.loss_value = 0\n",
    "        self.layer = []\n",
    "        htl = self.h0\n",
    "        len_words = len(words)-1\n",
    "        self.len_words = len_words\n",
    "        for idx,word in enumerate(words):\n",
    "            self.reseter()\n",
    "            self.layer_h = []\n",
    "            self.onehotx[self.lookup(word)] += 1\n",
    "            embedd = model1.wv(word).get()\n",
    "            self.layer_h.append(linear())\n",
    "            x = self.layer_h[-1].forward(embedd,self.Weight[\"Wi\"],htl,self.Weight['Wh'],self.Weight['bh'])\n",
    "            self.layer_h.append(tanh())\n",
    "            x = self.layer_h[-1].forward(x)\n",
    "            htl = x\n",
    "            x = self.linear(x,self.Weight['Wo'],self.Weight['bo'])\n",
    "            self.layer_h.append(relu())\n",
    "            x = self.layer_h[-1].forward(x)\n",
    "            self.layer_h.append(out_layer())\n",
    "            if idx < len_words:\n",
    "                self.onehoty[self.lookup(words[idx+1])] += 1\n",
    "            else:\n",
    "                self.onehoty[self.lookup(\"\\\\e\")] += 1\n",
    "            y = self.layer_h[-1].forward(x,self.onehoty)\n",
    "            self.layer.append(self.layer_h)\n",
    "            self.loss_value += y\n",
    "        return self.loss_value/len_words\n",
    "    def backward(self):\n",
    "        self.layer.reverse()\n",
    "        htl = np.zeros_like(self.h0)\n",
    "        wi = np.zeros_like(self.Weight['Wi'])\n",
    "        wh = np.zeros_like(self.Weight['Wh'])\n",
    "        wo = np.zeros_like(self.Weight['Wo'])\n",
    "        bo = np.zeros_like(self.Weight['bo'])\n",
    "        bh = np.zeros_like(self.Weight['bh'])\n",
    "        for layer in self.layer:\n",
    "            dy = layer[3].backward()\n",
    "            dy = layer[2].backward(dy)\n",
    "            bo += dy\n",
    "            wo += np.dot(dy,layer[1].tan_value().T)\n",
    "            do = np.dot(self.Weight['Wo'].T,dy) \n",
    "            do = do + htl\n",
    "            dh = layer[1].backward()*do\n",
    "            bh += dh\n",
    "            wh += np.dot(dh,layer[0].value_htl().T)\n",
    "            wi += np.dot(dh,layer[0].value_x())\n",
    "            htl = np.dot(self.Weight['Wh'].T,dh)\n",
    "        self.Weight['Wi'] -= self.lr * wi \n",
    "        self.Weight['Wh'] -= self.lr * wh\n",
    "        self.Weight['Wo'] -= self.lr * wo  \n",
    "        self.Weight['bo'] -= self.lr * bo  \n",
    "        self.Weight['bh'] -= self.lr * bh\n",
    "    def language(self,word):\n",
    "        str = ' '\n",
    "        str_list = []\n",
    "        htl = np.zeros_like(self.h0)\n",
    "        for _ in range(6):\n",
    "            self.reseter()\n",
    "            self.layer_h = []\n",
    "            self.onehotx[self.lookup(word)] += 1\n",
    "            embedd = model1.wv(word).get()\n",
    "            self.layer_h.append(linear())\n",
    "            x = self.layer_h[-1].forward(embedd,self.Weight[\"Wi\"],htl,self.Weight['Wh'],self.Weight['bh'])\n",
    "            self.layer_h.append(tanh())\n",
    "            x = self.layer_h[-1].forward(x)\n",
    "            htl = x\n",
    "            x = self.linear(x,self.Weight['Wo'],self.Weight['bo'])\n",
    "            self.layer_h.append(relu())\n",
    "            x = self.layer_h[-1].forward(x)\n",
    "            self.layer_h.append(out_layer())\n",
    "            word = self.layer_h[-1].predict(x)\n",
    "            word = self.voc[word]\n",
    "            str_list.append(word)\n",
    "        print(str_list)\n",
    "        str = str.join(str_list)\n",
    "        return str\n",
    "model = RNN(word_count)"
   ]
  },
  {
   "cell_type": "code",
   "execution_count": 12,
   "metadata": {},
   "outputs": [
    {
     "name": "stdout",
     "output_type": "stream",
     "text": [
      "['syn', 'searching', 'stood', 'magnifying', 'fortification', 'military']\n"
     ]
    },
    {
     "data": {
      "text/plain": [
       "'syn searching stood magnifying fortification military'"
      ]
     },
     "execution_count": 12,
     "metadata": {},
     "output_type": "execute_result"
    }
   ],
   "source": [
    "model.language(\"skier\")"
   ]
  },
  {
   "cell_type": "code",
   "execution_count": 13,
   "metadata": {},
   "outputs": [
    {
     "name": "stderr",
     "output_type": "stream",
     "text": [
      "  0%|          | 0/1000 [00:00<?, ?it/s]"
     ]
    },
    {
     "name": "stdout",
     "output_type": "stream",
     "text": [
      "12.136289647544015\n"
     ]
    },
    {
     "name": "stderr",
     "output_type": "stream",
     "text": [
      " 10%|█         | 101/1000 [00:20<03:02,  4.93it/s]"
     ]
    },
    {
     "name": "stdout",
     "output_type": "stream",
     "text": [
      "5.0407103575918715\n"
     ]
    },
    {
     "name": "stderr",
     "output_type": "stream",
     "text": [
      " 20%|██        | 201/1000 [00:41<02:42,  4.92it/s]"
     ]
    },
    {
     "name": "stdout",
     "output_type": "stream",
     "text": [
      "2.5302787422366335\n"
     ]
    },
    {
     "name": "stderr",
     "output_type": "stream",
     "text": [
      " 30%|███       | 301/1000 [01:02<02:23,  4.88it/s]"
     ]
    },
    {
     "name": "stdout",
     "output_type": "stream",
     "text": [
      "2.4842100885595335\n"
     ]
    },
    {
     "name": "stderr",
     "output_type": "stream",
     "text": [
      " 40%|████      | 401/1000 [01:23<02:07,  4.71it/s]"
     ]
    },
    {
     "name": "stdout",
     "output_type": "stream",
     "text": [
      "2.4545861209894975\n"
     ]
    },
    {
     "name": "stderr",
     "output_type": "stream",
     "text": [
      " 50%|█████     | 501/1000 [01:45<01:45,  4.74it/s]"
     ]
    },
    {
     "name": "stdout",
     "output_type": "stream",
     "text": [
      "2.4329852416769406\n"
     ]
    },
    {
     "name": "stderr",
     "output_type": "stream",
     "text": [
      " 60%|██████    | 601/1000 [02:06<01:24,  4.73it/s]"
     ]
    },
    {
     "name": "stdout",
     "output_type": "stream",
     "text": [
      "2.417857019178416\n"
     ]
    },
    {
     "name": "stderr",
     "output_type": "stream",
     "text": [
      " 70%|███████   | 701/1000 [02:28<01:03,  4.73it/s]"
     ]
    },
    {
     "name": "stdout",
     "output_type": "stream",
     "text": [
      "2.4089285197798707\n"
     ]
    },
    {
     "name": "stderr",
     "output_type": "stream",
     "text": [
      " 80%|████████  | 801/1000 [02:49<00:43,  4.57it/s]"
     ]
    },
    {
     "name": "stdout",
     "output_type": "stream",
     "text": [
      "2.4041184705880196\n"
     ]
    },
    {
     "name": "stderr",
     "output_type": "stream",
     "text": [
      " 90%|█████████ | 901/1000 [03:11<00:21,  4.59it/s]"
     ]
    },
    {
     "name": "stdout",
     "output_type": "stream",
     "text": [
      "2.40215299913339\n"
     ]
    },
    {
     "name": "stderr",
     "output_type": "stream",
     "text": [
      "100%|██████████| 1000/1000 [03:33<00:00,  4.68it/s]\n"
     ]
    }
   ],
   "source": [
    "for _ in tqdm(dataset.index[:1000]):\n",
    "    sentence = dataset.iloc[0]['target'].split(' ')\n",
    "    y = model.forward(sentence)\n",
    "    if _ % 100 ==0:\n",
    "        print(y)\n",
    "    model.backward()\n",
    "exit_op()"
   ]
  },
  {
   "cell_type": "code",
   "execution_count": 14,
   "metadata": {},
   "outputs": [
    {
     "name": "stdout",
     "output_type": "stream",
     "text": [
      "['skis', 'down', 'the', '\\\\s', 'ice', 'claims']\n"
     ]
    },
    {
     "data": {
      "text/plain": [
       "'skis down the \\\\s ice claims'"
      ]
     },
     "execution_count": 14,
     "metadata": {},
     "output_type": "execute_result"
    }
   ],
   "source": [
    "model.language(\"skier\")"
   ]
  },
  {
   "cell_type": "code",
   "execution_count": 117,
   "metadata": {},
   "outputs": [],
   "source": [
    "with open(\"weight.txt\",\"w\") as f:\n",
    "    f.write(str(model.Weight['Wh']))\n",
    "    f.write(str(model.Weight['Wi']))\n",
    "    f.write(str(model.Weight['Wo']))"
   ]
  }
 ],
 "metadata": {
  "kernelspec": {
   "display_name": "env",
   "language": "python",
   "name": "python3"
  },
  "language_info": {
   "codemirror_mode": {
    "name": "ipython",
    "version": 3
   },
   "file_extension": ".py",
   "mimetype": "text/x-python",
   "name": "python",
   "nbconvert_exporter": "python",
   "pygments_lexer": "ipython3",
   "version": "3.8.16"
  }
 },
 "nbformat": 4,
 "nbformat_minor": 2
}
